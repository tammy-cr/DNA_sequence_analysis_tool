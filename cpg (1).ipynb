{
  "nbformat": 4,
  "nbformat_minor": 0,
  "metadata": {
    "colab": {
      "provenance": []
    },
    "kernelspec": {
      "name": "python3",
      "display_name": "Python 3"
    },
    "language_info": {
      "name": "python"
    }
  },
  "cells": [
    {
      "cell_type": "markdown",
      "source": [
        "This program analyzes the nucleotide composition of DNA sequences. A report is being printed including:\n",
        "- the number of sequences in the input file\n",
        "- the total length of all sequences\n",
        "- the maximum sequence length\n",
        "- the minimum sequence length\n",
        "- the average length of the sequences\n",
        "\n",
        "For each sequence, printing:\n",
        "- the header line\n",
        "- the length of the sequence\n",
        "- the count and the fraction of the nucleotides A, C, G, T in the\n",
        "sequence. Use 2 decimal places for these fractions.\n",
        "- the count and fraction of the CpG dinucleotide for the sequence\n",
        "\n",
        "\n",
        "The dinucleotide CpG occurs in \"islands\" of 300-30,000 base pairs in and near approximately 40% of promoters of mammalian genes (and about 70% in human promoters). The \"p\" in CpG notation refers to the phosphodiester bond between the cytosine and the guanine.\n"
      ],
      "metadata": {
        "id": "Tdkw6YldvunU"
      }
    },
    {
      "cell_type": "code",
      "source": [
        "\n",
        "\n",
        "from re import *\n",
        "\n",
        "# Function to calculate nucleotide counts and fractions\n",
        "def calculate_fractions(sequence):\n",
        "    total_length = len(sequence)\n",
        "    a_count = sequence.upper().count(\"A\")\n",
        "    c_count = sequence.upper().count(\"C\")\n",
        "    g_count = sequence.upper().count(\"G\")\n",
        "    t_count = sequence.upper().count(\"T\")\n",
        "    cpg_count = sequence.upper().count(\"CG\")\n",
        "\n",
        "    a_fraction = a_count / total_length\n",
        "    c_fraction = c_count / total_length\n",
        "    g_fraction = g_count / total_length\n",
        "    t_fraction = t_count / total_length\n",
        "    cpg_fraction = cpg_count / (total_length - 1)  # CpG count excludes the last 'G' in 'CG'\n",
        "\n",
        "    return a_count, a_fraction, c_count, c_fraction, g_count, g_fraction, t_count, t_fraction, cpg_count, cpg_fraction\n",
        "\n",
        "# Ask the user for the input file name\n",
        "userfile = input(\"Enter the name of a DNA sequence file in FASTA format: \")\n",
        "\n",
        "try:\n",
        "    myfile = open(userfile, 'r') #reads the .fsa file and stores it in astring\n",
        "    header_array = []\n",
        "    sequence_array = []\n",
        "\n",
        "    # Read FASTA file\n",
        "    n = -1  # Count of sequences in file\n",
        "    for line in myfile:\n",
        "        line = line.rstrip(\"\\n\")  # Remove trailing \\n from line\n",
        "        if search(r\"^>\", line):  # Line starts with a \">\"\n",
        "            n = n + 1  # Increment counter\n",
        "            header_array.append(line)  # Save header line\n",
        "            sequence_array.append(\"\")  # Start a new empty sequence\n",
        "        else:\n",
        "            if not header_array:  # Ignore data before the first header\n",
        "                continue\n",
        "            sequence_array[n] = sequence_array[n] + line  # Append to the end of the current sequence\n",
        "\n",
        "    count = n + 1  # Set count to the number of sequences\n",
        "    myfile.close()\n",
        "\n",
        "    # Calculate statistics and write to the output file\n",
        "    output_file = userfile.replace(\".fsa\", \".ot\")\n",
        "    with open(output_file, 'w') as out_file:\n",
        "        total_length = 0\n",
        "        max_length = 0\n",
        "        min_length = float('inf')\n",
        "\n",
        "        for i, seq in enumerate(sequence_array):\n",
        "            header = header_array[i]\n",
        "            seq_length = len(seq)\n",
        "            total_length += seq_length\n",
        "            max_length = max(max_length, seq_length)\n",
        "            min_length = min(min_length, seq_length)\n",
        "\n",
        "            # Calculate nucleotide counts and fractions\n",
        "            a_count, a_fraction, c_count, c_fraction, g_count, g_fraction, t_count, t_fraction, cpg_count, cpg_fraction = calculate_fractions(seq)\n",
        "\n",
        "            # Write report for each sequence\n",
        "            out_file.write(f\"Sequence {i + 1}:\\n\")\n",
        "            out_file.write(f\"Header Line: {header}\\n\")\n",
        "            out_file.write(f\"Length of Sequence: {seq_length}\\n\")\n",
        "            out_file.write(f\"Nucleotide Counts (A, C, G, T): {a_count}, {c_count}, {g_count}, {t_count}\\n\")\n",
        "            out_file.write(f\"Nucleotide Fractions (A, C, G, T): {a_fraction:.2f}, {c_fraction:.2f}, {g_fraction:.2f}, {t_fraction:.2f}\\n\")\n",
        "            out_file.write(f\"CpG Count: {cpg_count}\\n\")\n",
        "            out_file.write(f\"CpG Fraction: {cpg_fraction:.2f}\\n\\n\")\n",
        "\n",
        "        # Write report for the entire set of sequences\n",
        "        out_file.write(\"Summary Report:\\n\")\n",
        "        out_file.write(f\"Number of Sequences: {count}\\n\")\n",
        "        out_file.write(f\"Total Length of All Sequences: {total_length}\\n\")\n",
        "        out_file.write(f\"Maximum Sequence Length: {max_length}\\n\")\n",
        "        out_file.write(f\"Minimum Sequence Length: {min_length}\\n\")\n",
        "        out_file.write(f\"Average Length of Sequences: {total_length / count:.2f}\\n\")\n",
        "\n",
        "    print(f\"Report written to {output_file}\")\n",
        "\n",
        "except FileNotFoundError:\n",
        "    print(\"The specified file does not exist.\")\n"
      ],
      "metadata": {
        "colab": {
          "base_uri": "https://localhost:8080/"
        },
        "id": "LCGGbH01Xij2",
        "outputId": "672d9833-7c33-475f-d468-3f93389fb77e"
      },
      "execution_count": 4,
      "outputs": [
        {
          "output_type": "stream",
          "name": "stdout",
          "text": [
            "Enter the name of a DNA sequence file in FASTA format: genes.fsa\n",
            "Report written to genes.ot\n"
          ]
        }
      ]
    },
    {
      "cell_type": "code",
      "source": [
        "# Open and read the contents of the output file 'genes.ot'\n",
        "output_file = 'genes.ot'  # Replace with the actual file name if different\n",
        "\n",
        "try:\n",
        "    with open(output_file, 'r') as file:\n",
        "        contents = file.read()\n",
        "        print(contents)\n",
        "except FileNotFoundError:\n",
        "    print(f\"The file '{output_file}' does not exist.\")\n"
      ],
      "metadata": {
        "colab": {
          "base_uri": "https://localhost:8080/"
        },
        "id": "p-qhJfM-x7Bw",
        "outputId": "ed828941-2790-441c-8b44-0a987fce2f57"
      },
      "execution_count": 12,
      "outputs": [
        {
          "output_type": "stream",
          "name": "stdout",
          "text": [
            "Sequence 1:\n",
            "Header Line: >AB037784 Homo sapiens mRNA for KIAA1363 protein, partial cds.\n",
            "Length of Sequence: 4116\n",
            "Nucleotide Counts (A, C, G, T): 1175, 828, 835, 1278\n",
            "Nucleotide Fractions (A, C, G, T): 0.29, 0.20, 0.20, 0.31\n",
            "CpG Count: 60\n",
            "CpG Fraction: 0.01\n",
            "\n",
            "Sequence 2:\n",
            "Header Line: >AF141315 Homo sapiens alpha-1,4-N-acetylglucosaminyltransferase mRNA, complete cds.\n",
            "Length of Sequence: 1292\n",
            "Nucleotide Counts (A, C, G, T): 350, 307, 306, 329\n",
            "Nucleotide Fractions (A, C, G, T): 0.27, 0.24, 0.24, 0.25\n",
            "CpG Count: 20\n",
            "CpG Fraction: 0.02\n",
            "\n",
            "Sequence 3:\n",
            "Header Line: >AJ289841 Homo sapiens partial ADRACALA gene for adracalin, exon 1 and joined CDS.\n",
            "Length of Sequence: 313\n",
            "Nucleotide Counts (A, C, G, T): 60, 84, 117, 52\n",
            "Nucleotide Fractions (A, C, G, T): 0.19, 0.27, 0.37, 0.17\n",
            "CpG Count: 20\n",
            "CpG Fraction: 0.06\n",
            "\n",
            "Sequence 4:\n",
            "Header Line: >AK022451 Homo sapiens cDNA FLJ12389 fis, clone MAMMA1002671, weakly similar to ACETYL-COENZYME A SYNTHETASE (EC 6.2.1.1).\n",
            "Length of Sequence: 3253\n",
            "Nucleotide Counts (A, C, G, T): 706, 864, 927, 756\n",
            "Nucleotide Fractions (A, C, G, T): 0.22, 0.27, 0.28, 0.23\n",
            "CpG Count: 127\n",
            "CpG Fraction: 0.04\n",
            "\n",
            "Sequence 5:\n",
            "Header Line: >AK057908 Homo sapiens cDNA FLJ25179 fis, clone CBR09204.\n",
            "Length of Sequence: 1136\n",
            "Nucleotide Counts (A, C, G, T): 319, 272, 248, 297\n",
            "Nucleotide Fractions (A, C, G, T): 0.28, 0.24, 0.22, 0.26\n",
            "CpG Count: 10\n",
            "CpG Fraction: 0.01\n",
            "\n",
            "Summary Report:\n",
            "Number of Sequences: 5\n",
            "Total Length of All Sequences: 10110\n",
            "Maximum Sequence Length: 4116\n",
            "Minimum Sequence Length: 313\n",
            "Average Length of Sequences: 2022.00\n",
            "\n"
          ]
        }
      ]
    }
  ]
}